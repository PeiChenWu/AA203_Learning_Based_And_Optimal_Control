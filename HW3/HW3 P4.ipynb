{
 "cells": [
  {
   "cell_type": "code",
   "execution_count": 1,
   "id": "654cc56e",
   "metadata": {},
   "outputs": [
    {
     "name": "stdout",
     "output_type": "stream",
     "text": [
      "(CVXPY) May 25 04:52:02 PM: Encountered unexpected exception importing solver SCS:\n",
      "ImportError('dlopen(/Users/peichenwu/opt/miniconda3/envs/cs237b/lib/python3.9/site-packages/_scs_direct.cpython-39-darwin.so, 2): Symbol not found: _aligned_alloc\\n  Referenced from: /Users/peichenwu/opt/miniconda3/envs/cs237b/lib/python3.9/site-packages/scs/.dylibs/libgomp.1.dylib (which was built for Mac OS X 10.15)\\n  Expected in: /usr/lib/libSystem.B.dylib\\n in /Users/peichenwu/opt/miniconda3/envs/cs237b/lib/python3.9/site-packages/scs/.dylibs/libgomp.1.dylib')\n"
     ]
    }
   ],
   "source": [
    "import numpy as np\n",
    "import cvxpy as cvx\n",
    "import matplotlib.pyplot as plt\n",
    "from scipy.linalg import solve_discrete_are\n",
    "from tqdm.auto import tqdm\n",
    "from itertools import product"
   ]
  },
  {
   "cell_type": "code",
   "execution_count": 2,
   "id": "d97ca00f",
   "metadata": {},
   "outputs": [],
   "source": [
    "def do_mpc(x0: np.ndarray, A: np.ndarray, B: np.ndarray,\n",
    "           P: np.ndarray, Q: np.ndarray, R: np.ndarray,\n",
    "           N: int, rx: float, ru: float,\n",
    "           rf: float):\n",
    "    \"\"\"Solve the MPC problem starting at state `x0`.\"\"\"\n",
    "    n, m = Q.shape[0], R.shape[0]\n",
    "    x_cvx = cvx.Variable((N + 1, n))\n",
    "    u_cvx = cvx.Variable((N, m))\n",
    "\n",
    "    # ####################### PART (a): YOUR CODE BELOW #######################\n",
    "\n",
    "    # INSTRUCTIONS: Construct and solve the MPC problem using CVXPY.\n",
    "\n",
    "    # TODO: Replace the two lines below with your code.\n",
    "    cost = 0.\n",
    "    constraints = []\n",
    "\n",
    "    # ############################# END PART (a) ##############################\n",
    "\n",
    "    prob = cvx.Problem(cvx.Minimize(cost), constraints)\n",
    "    prob.solve()\n",
    "    x = x_cvx.value\n",
    "    u = u_cvx.value\n",
    "    status = prob.status\n",
    "\n",
    "    return x, u, status"
   ]
  },
  {
   "cell_type": "code",
   "execution_count": null,
   "id": "35bd6b1c",
   "metadata": {},
   "outputs": [],
   "source": []
  }
 ],
 "metadata": {
  "kernelspec": {
   "display_name": "Python 3 (ipykernel)",
   "language": "python",
   "name": "python3"
  },
  "language_info": {
   "codemirror_mode": {
    "name": "ipython",
    "version": 3
   },
   "file_extension": ".py",
   "mimetype": "text/x-python",
   "name": "python",
   "nbconvert_exporter": "python",
   "pygments_lexer": "ipython3",
   "version": "3.9.7"
  }
 },
 "nbformat": 4,
 "nbformat_minor": 5
}
